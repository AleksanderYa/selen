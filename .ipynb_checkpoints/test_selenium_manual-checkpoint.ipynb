{
 "cells": [
  {
   "cell_type": "markdown",
   "metadata": {},
   "source": [
    "## Functional"
   ]
  },
  {
   "cell_type": "code",
   "execution_count": 5,
   "metadata": {},
   "outputs": [
    {
     "name": "stdout",
     "output_type": "stream",
     "text": [
      "\n"
     ]
    }
   ],
   "source": [
    "from selenium import webdriver\n",
    "from selenium.webdriver.common.keys import Keys\n",
    "from selenium.webdriver.chrome.options import Options\n",
    "from selenium.webdriver.support.ui import WebDriverWait\n",
    "\n",
    "def init_driver():\n",
    "    PATH = 'D:\\chromedriver.exe'\n",
    "    chrome_options = Options()\n",
    "    chrome_options.add_argument(\"start-maximized\")\n",
    "    driver = webdriver.Chrome(PATH, options=chrome_options)\n",
    "    driver.wait = WebDriverWait(driver, 5)\n",
    "    return driver\n",
    "\n",
    "\n",
    "driver = init_driver()\n",
    "\n",
    "# driver = webdriver.Firefox()\n",
    "driver.get(\"http://www.python.org\")\n",
    "assert \"Python\" in driver.title\n",
    "elem = driver.find_element_by_name(\"q\")\n",
    "elem.clear()\n",
    "elem.send_keys(\"pycon\")\n",
    "elem.send_keys(Keys.RETURN)\n",
    "assert \"No results found.\" not in driver.page_source\n",
    "input()\n",
    "driver.close()"
   ]
  },
  {
   "cell_type": "markdown",
   "metadata": {},
   "source": [
    "## OOP"
   ]
  },
  {
   "cell_type": "code",
   "execution_count": 10,
   "metadata": {},
   "outputs": [
    {
     "name": "stdout",
     "output_type": "stream",
     "text": [
      "\n"
     ]
    }
   ],
   "source": [
    "import unittest\n",
    "from selenium import webdriver\n",
    "from selenium.webdriver.common.keys import Keys\n",
    "from selenium.webdriver.chrome.options import Options\n",
    "from selenium.webdriver.support.ui import WebDriverWait\n",
    "\n",
    "\n",
    "\n",
    "class PythonOrgSearch(unittest.TestCase):\n",
    "    \n",
    "    def setUp(self):\n",
    "#         self.driver = webdriver.Firefox()\n",
    "        PATH = 'D:\\chromedriver.exe'\n",
    "        chrome_options = Options()\n",
    "        chrome_options.add_argument(\"start-maximized\")\n",
    "        self.driver = webdriver.Chrome(PATH, options=chrome_options)\n",
    "        driver.wait = WebDriverWait(driver, 5)\n",
    "        \n",
    "    def test_search_in_python_org(self):\n",
    "        driver = self.driver\n",
    "        driver.get(\"http://www.python.org\")\n",
    "        self.assertIn(\"Python\", driver.title)\n",
    "        elem = driver.find_element_by_name(\"q\")\n",
    "        elem.send_keys(\"pycon\")\n",
    "        elem.send_keys(Keys.RETURN)\n",
    "        assert \"No results found.\" not in driver.page_source\n",
    "        \n",
    "        \n",
    "    def tearDown(self):\n",
    "        input()\n",
    "        self.driver.close()\n",
    "        \n",
    "\n",
    "# unittest.main()\n",
    "a = PythonOrgSearch()\n",
    "a.setUp()\n",
    "a.test_search_in_python_org()\n",
    "a.tearDown()"
   ]
  },
  {
   "cell_type": "code",
   "execution_count": null,
   "metadata": {},
   "outputs": [],
   "source": []
  }
 ],
 "metadata": {
  "kernelspec": {
   "display_name": "Python 3",
   "language": "python",
   "name": "python3"
  },
  "language_info": {
   "codemirror_mode": {
    "name": "ipython",
    "version": 3
   },
   "file_extension": ".py",
   "mimetype": "text/x-python",
   "name": "python",
   "nbconvert_exporter": "python",
   "pygments_lexer": "ipython3",
   "version": "3.6.5"
  }
 },
 "nbformat": 4,
 "nbformat_minor": 4
}
