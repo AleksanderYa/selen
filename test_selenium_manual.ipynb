{
 "cells": [
  {
   "cell_type": "markdown",
   "metadata": {},
   "source": [
    "## Functional"
   ]
  },
  {
   "cell_type": "code",
   "execution_count": 5,
   "metadata": {},
   "outputs": [
    {
     "name": "stdout",
     "output_type": "stream",
     "text": [
      "\n"
     ]
    }
   ],
   "source": [
    "from selenium import webdriver\n",
    "from selenium.webdriver.common.keys import Keys\n",
    "from selenium.webdriver.chrome.options import Options\n",
    "from selenium.webdriver.support.ui import WebDriverWait\n",
    "\n",
    "def init_driver():\n",
    "    PATH = 'D:\\chromedriver.exe'\n",
    "    chrome_options = Options()\n",
    "    chrome_options.add_argument(\"start-maximized\")\n",
    "    driver = webdriver.Chrome(PATH, options=chrome_options)\n",
    "    driver.wait = WebDriverWait(driver, 5)\n",
    "    return driver\n",
    "\n",
    "\n",
    "driver = init_driver()\n",
    "\n",
    "# driver = webdriver.Firefox()\n",
    "driver.get(\"http://www.python.org\")\n",
    "assert \"Python\" in driver.title\n",
    "elem = driver.find_element_by_name(\"q\")\n",
    "elem.clear()\n",
    "elem.send_keys(\"pycon\")\n",
    "elem.send_keys(Keys.RETURN)\n",
    "assert \"No results found.\" not in driver.page_source\n",
    "input()\n",
    "driver.close()"
   ]
  },
  {
   "cell_type": "markdown",
   "metadata": {},
   "source": [
    "## OOP"
   ]
  },
  {
   "cell_type": "code",
   "execution_count": null,
   "metadata": {},
   "outputs": [
    {
     "name": "stdout",
     "output_type": "stream",
     "text": [
      "finded coupon-table\n",
      "finded ng-scope\n"
     ]
    }
   ],
   "source": [
    "import unittest\n",
    "import time\n",
    "from selenium import webdriver\n",
    "from selenium.webdriver.common.keys import Keys\n",
    "from selenium.webdriver.chrome.options import Options\n",
    "from selenium.webdriver.support.ui import WebDriverWait\n",
    "\n",
    "\n",
    "\n",
    "class PythonOrgSearch(unittest.TestCase):\n",
    "    \n",
    "    def setUp(self):\n",
    "#         self.driver = webdriver.Firefox()\n",
    "        PATH = 'D:\\chromedriver.exe'\n",
    "        chrome_options = Options()\n",
    "        chrome_options.add_argument(\"start-maximized\")\n",
    "        self.driver = webdriver.Chrome(PATH, options=chrome_options)\n",
    "        driver.wait = WebDriverWait(driver, 5)\n",
    "        \n",
    "    def test_search_in_python_org(self):\n",
    "        driver = self.driver\n",
    "        driver.get('https://www.betfair.com/exchange/plus/inplay/football')\n",
    "#         self.assertIn(\"Python\", driver.title)\n",
    "        elem = driver.find_element_by_name(\"q\")\n",
    "        elem.send_keys(\"pycon\")\n",
    "        elem.send_keys(Keys.RETURN)\n",
    "        assert \"No results found.\" not in driver.page_source\n",
    "        \n",
    "        \n",
    "    def tearDown(self):\n",
    "        input()\n",
    "        self.driver.close()\n",
    "        \n",
    "    def find_coupon_table(self):\n",
    "        try:\n",
    "            driver = self.driver\n",
    "            driver.get('https://www.betfair.com/exchange/plus/inplay/football')\n",
    "            time.sleep(1)\n",
    "#             res = driver.wait.until(EC.presence_of_all_elements_located((By.CLASS_NAME, 'coupon-table')))\n",
    "            elem = driver.find_elements_by_class_name('coupon-table')\n",
    "            print('finded coupon-table')\n",
    "            time.sleep(5)\n",
    "            if elem[0]:\n",
    "                elem = driver.find_elements_by_class_name('ng-scope')\n",
    "                print('finded ng-scope')\n",
    "                time.sleep(5)\n",
    "            if elem:\n",
    "                for i in elem:\n",
    "                    elem = driver.find_elements_by_class_name('mod-link')\n",
    "                    print('finded mod-link')\n",
    "            if elem:\n",
    "                for i in elem:\n",
    "                    print(i)\n",
    "        except Exception as e:\n",
    "            print('find_coupon_table', e)\n",
    "# unittest.main()\n",
    "a = PythonOrgSearch()\n",
    "a.setUp()\n",
    "# a.test_search_in_python_org()\n",
    "a.find_coupon_table()\n",
    "a.tearDown()"
   ]
  },
  {
   "cell_type": "code",
   "execution_count": 21,
   "metadata": {},
   "outputs": [
    {
     "name": "stderr",
     "output_type": "stream",
     "text": [
      "\n",
      "----------------------------------------------------------------------\n",
      "Ran 0 tests in 0.000s\n",
      "\n",
      "OK\n"
     ]
    }
   ],
   "source": [
    "!python -m unittest\n"
   ]
  },
  {
   "cell_type": "code",
   "execution_count": null,
   "metadata": {},
   "outputs": [],
   "source": []
  }
 ],
 "metadata": {
  "kernelspec": {
   "display_name": "Python 3",
   "language": "python",
   "name": "python3"
  },
  "language_info": {
   "codemirror_mode": {
    "name": "ipython",
    "version": 3
   },
   "file_extension": ".py",
   "mimetype": "text/x-python",
   "name": "python",
   "nbconvert_exporter": "python",
   "pygments_lexer": "ipython3",
   "version": "3.6.5"
  }
 },
 "nbformat": 4,
 "nbformat_minor": 4
}
