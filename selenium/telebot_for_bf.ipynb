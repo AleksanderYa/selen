{
 "cells": [
  {
   "cell_type": "code",
   "execution_count": 21,
   "metadata": {},
   "outputs": [
    {
     "name": "stdout",
     "output_type": "stream",
     "text": [
      "Requirement already satisfied: pytelegrambotapi in c:\\users\\sales2\\appdata\\local\\programs\\python\\python36\\lib\\site-packages (3.7.6)"
     ]
    },
    {
     "name": "stderr",
     "output_type": "stream",
     "text": [
      "WARNING: You are using pip version 20.2.4; however, version 20.3.3 is available.\n",
      "You should consider upgrading via the 'c:\\users\\sales2\\appdata\\local\\programs\\python\\python36\\python.exe -m pip install --upgrade pip' command.\n"
     ]
    },
    {
     "name": "stdout",
     "output_type": "stream",
     "text": [
      "\n",
      "Requirement already satisfied: requests in c:\\users\\sales2\\appdata\\local\\programs\\python\\python36\\lib\\site-packages (from pytelegrambotapi) (2.24.0)\n",
      "Requirement already satisfied: certifi>=2017.4.17 in c:\\users\\sales2\\appdata\\local\\programs\\python\\python36\\lib\\site-packages (from requests->pytelegrambotapi) (2020.6.20)\n",
      "Requirement already satisfied: idna<3,>=2.5 in c:\\users\\sales2\\appdata\\local\\programs\\python\\python36\\lib\\site-packages (from requests->pytelegrambotapi) (2.10)\n",
      "Requirement already satisfied: urllib3!=1.25.0,!=1.25.1,<1.26,>=1.21.1 in c:\\users\\sales2\\appdata\\local\\programs\\python\\python36\\lib\\site-packages (from requests->pytelegrambotapi) (1.25.10)\n",
      "Requirement already satisfied: chardet<4,>=3.0.2 in c:\\users\\sales2\\appdata\\local\\programs\\python\\python36\\lib\\site-packages (from requests->pytelegrambotapi) (3.0.4)\n"
     ]
    }
   ],
   "source": [
    "!pip install pytelegrambotapi"
   ]
  },
  {
   "cell_type": "code",
   "execution_count": 5,
   "metadata": {},
   "outputs": [],
   "source": [
    "import telebot\n",
    "tok = '1342963300:AAGBnoqmIQ63KpcVMa9QuPgF_RtF_HXhwEU'\n",
    "bot = telebot.TeleBot(tok, parse_mode=None)\n",
    "\n"
   ]
  },
  {
   "cell_type": "code",
   "execution_count": 7,
   "metadata": {},
   "outputs": [],
   "source": [
    "\n",
    "@bot.message_handler(commands=['start', 'help', 'off'])\n",
    "def send_welcome(message):\n",
    "\n",
    "        bot.reply_to(message, \"Howdy, how are you doing?\")\n",
    "@bot.message_handler(func=lambda message: True)\n",
    "def echo_all(message):    \n",
    "    if message.text == \"Привет\":\n",
    "        bot.send_message(message.from_user.id, \"Привет, чем я могу тебе помочь?\")\n",
    "    elif message.text == \"off\":\n",
    "        bot.stop_polling()\n",
    "        bot.send_message(message.from_user.id, \"Напиши привет\")\n",
    "    else:\n",
    "        bot.send_message(message.from_user.id, \"Я тебя не понимаю. Напиши /help.\")\n",
    "#     bot.reply_to(message, message.text)\n",
    "\n",
    "bot.polling(none_stop=False, interval=0)"
   ]
  },
  {
   "cell_type": "code",
   "execution_count": null,
   "metadata": {},
   "outputs": [],
   "source": []
  }
 ],
 "metadata": {
  "kernelspec": {
   "display_name": "Python 3",
   "language": "python",
   "name": "python3"
  },
  "language_info": {
   "codemirror_mode": {
    "name": "ipython",
    "version": 3
   },
   "file_extension": ".py",
   "mimetype": "text/x-python",
   "name": "python",
   "nbconvert_exporter": "python",
   "pygments_lexer": "ipython3",
   "version": "3.6.5"
  }
 },
 "nbformat": 4,
 "nbformat_minor": 4
}
