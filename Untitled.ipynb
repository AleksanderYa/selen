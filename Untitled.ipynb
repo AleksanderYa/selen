{
 "cells": [
  {
   "cell_type": "code",
   "execution_count": 13,
   "id": "ed885d98",
   "metadata": {},
   "outputs": [],
   "source": [
    "from telegram.ext import Updater\n",
    "from telegram.ext import CommandHandler\n",
    "from telegram import InlineQueryResultArticle, InputTextMessageContent\n",
    "from telegram.ext import InlineQueryHandler\n",
    "\n",
    "\n",
    "updater = Updater(token='1841807907:AAFgZgg766DoELrN-W4EHmtGVO6pGot7GrA', use_context=True)"
   ]
  },
  {
   "cell_type": "code",
   "execution_count": 14,
   "id": "4030cf69",
   "metadata": {},
   "outputs": [],
   "source": [
    "def start(update, context):\n",
    "    text_caps = ' '.join(context.args) + '? All good!'\n",
    "    context.bot.send_message(chat_id=update.effective_chat.id, text=text_caps)\n",
    "    \n",
    "def stop(update, context):\n",
    "    context.bot.send_message(chat_id=update.effective_chat.id, text=\"Iam OFF\")\n",
    "    updater.stop()"
   ]
  },
  {
   "cell_type": "code",
   "execution_count": 15,
   "id": "5216b073",
   "metadata": {},
   "outputs": [],
   "source": [
    "\n",
    "def inline_caps(update, context):\n",
    "    query = update.inline_query.query\n",
    "    if not query:\n",
    "        return\n",
    "    results = list()\n",
    "    results.append(\n",
    "        InlineQueryResultArticle(\n",
    "            id=query.upper(),\n",
    "            title='Caps',\n",
    "            input_message_content=InputTextMessageContent(query.upper())\n",
    "        )\n",
    "    )\n",
    "    context.bot.answer_inline_query(update.inline_query.id, results)\n",
    "\n",
    "\n",
    "def caps(update, context):\n",
    "    text_caps = ' '.join(context.args).upper()\n",
    "    context.bot.send_message(chat_id=update.effective_chat.id, text=text_caps)\n",
    "\n"
   ]
  },
  {
   "cell_type": "code",
   "execution_count": 16,
   "id": "8b967b05",
   "metadata": {},
   "outputs": [],
   "source": [
    "start_handler = CommandHandler('start', start)\n",
    "updater.dispatcher.add_handler(start_handler)\n",
    "\n",
    "start_handler = CommandHandler('stop', stop)\n",
    "updater.dispatcher.add_handler(start_handler)\n",
    "\n",
    "caps_handler = CommandHandler('caps', caps)\n",
    "updater.dispatcher.add_handler(caps_handler)\n",
    "\n",
    "inline_caps_handler = InlineQueryHandler(inline_caps)\n",
    "updater.dispatcher.add_handler(inline_caps_handler)"
   ]
  },
  {
   "cell_type": "code",
   "execution_count": null,
   "id": "d691037f",
   "metadata": {},
   "outputs": [],
   "source": [
    "updater.start_polling()"
   ]
  },
  {
   "cell_type": "code",
   "execution_count": 12,
   "id": "c18ed737",
   "metadata": {},
   "outputs": [],
   "source": [
    "updater.stop()"
   ]
  },
  {
   "cell_type": "code",
   "execution_count": null,
   "id": "1af1674e",
   "metadata": {},
   "outputs": [],
   "source": []
  },
  {
   "cell_type": "code",
   "execution_count": null,
   "id": "bcc77404",
   "metadata": {},
   "outputs": [],
   "source": []
  }
 ],
 "metadata": {
  "kernelspec": {
   "display_name": "Python 3",
   "language": "python",
   "name": "python3"
  },
  "language_info": {
   "codemirror_mode": {
    "name": "ipython",
    "version": 3
   },
   "file_extension": ".py",
   "mimetype": "text/x-python",
   "name": "python",
   "nbconvert_exporter": "python",
   "pygments_lexer": "ipython3",
   "version": "3.6.5"
  }
 },
 "nbformat": 4,
 "nbformat_minor": 5
}
